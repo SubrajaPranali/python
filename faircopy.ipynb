{
 "cells": [
  {
   "cell_type": "code",
   "execution_count": 1,
   "id": "50248322-0355-42f8-ba43-7f26c3cfebb6",
   "metadata": {},
   "outputs": [],
   "source": [
    "from multifunctions import Operations"
   ]
  },
  {
   "cell_type": "code",
   "execution_count": 2,
   "id": "716f7d53-e04b-4c40-8085-71b90e8d0735",
   "metadata": {},
   "outputs": [
    {
     "name": "stdin",
     "output_type": "stream",
     "text": [
      "Enter a number:  52452\n"
     ]
    },
    {
     "name": "stdout",
     "output_type": "stream",
     "text": [
      "52452 is even\n"
     ]
    }
   ],
   "source": [
    "Operations.OddEven()"
   ]
  },
  {
   "cell_type": "code",
   "execution_count": 3,
   "id": "804435d2-4ed8-45f3-9629-bc797798e716",
   "metadata": {},
   "outputs": [
    {
     "name": "stdin",
     "output_type": "stream",
     "text": [
      "Your gender:  male\n",
      "Your age:  20\n"
     ]
    },
    {
     "name": "stdout",
     "output_type": "stream",
     "text": [
      "not eligible\n"
     ]
    }
   ],
   "source": [
    "Operations.EligibilityForMarriage()"
   ]
  },
  {
   "cell_type": "code",
   "execution_count": null,
   "id": "d59983c3-4610-4510-b627-cb9c3c7d3d39",
   "metadata": {},
   "outputs": [
    {
     "name": "stdin",
     "output_type": "stream",
     "text": [
      "Subject 1:  98\n",
      "Subject 2:  87\n"
     ]
    }
   ],
   "source": [
    "Operations.Percentage()"
   ]
  },
  {
   "cell_type": "code",
   "execution_count": null,
   "id": "c0c5b5be-7c0a-4cd9-a574-daa0fad654d2",
   "metadata": {},
   "outputs": [],
   "source": []
  }
 ],
 "metadata": {
  "kernelspec": {
   "display_name": "Python 3 (ipykernel)",
   "language": "python",
   "name": "python3"
  },
  "language_info": {
   "codemirror_mode": {
    "name": "ipython",
    "version": 3
   },
   "file_extension": ".py",
   "mimetype": "text/x-python",
   "name": "python",
   "nbconvert_exporter": "python",
   "pygments_lexer": "ipython3",
   "version": "3.12.4"
  }
 },
 "nbformat": 4,
 "nbformat_minor": 5
}
