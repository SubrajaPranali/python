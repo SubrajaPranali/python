{
 "cells": [
  {
   "cell_type": "code",
   "execution_count": 1,
   "id": "dcb1a2a9-3e88-4ba8-b7d4-e1b788483c43",
   "metadata": {},
   "outputs": [],
   "source": [
    "from multifunctions import Operations"
   ]
  },
  {
   "cell_type": "code",
   "execution_count": 2,
   "id": "36cc1394-d5a9-4709-8806-f6590406d7c2",
   "metadata": {},
   "outputs": [
    {
     "name": "stdin",
     "output_type": "stream",
     "text": [
      "Enter a number:  52452\n"
     ]
    },
    {
     "name": "stdout",
     "output_type": "stream",
     "text": [
      "52452 is even\n"
     ]
    }
   ],
   "source": [
    "Operations.OddEven()"
   ]
  },
  {
   "cell_type": "code",
   "execution_count": 3,
   "id": "efd7fa98-3f14-470e-b3b5-e551beab336f",
   "metadata": {},
   "outputs": [
    {
     "name": "stdin",
     "output_type": "stream",
     "text": [
      "Your gender:  male\n",
      "Your age:  20\n"
     ]
    },
    {
     "name": "stdout",
     "output_type": "stream",
     "text": [
      "not eligible\n"
     ]
    }
   ],
   "source": [
    "Operations.EligibilityForMarriage()"
   ]
  },
  {
   "cell_type": "code",
   "execution_count": 4,
   "id": "51873f55-2b23-4578-ba4a-c8ab22e457aa",
   "metadata": {},
   "outputs": [
    {
     "name": "stdin",
     "output_type": "stream",
     "text": [
      "Subject 1:  98\n",
      "Subject 2:  87\n",
      "Subject 3:  95\n",
      "Subject 4:  95\n",
      "Subject 5:  93\n"
     ]
    },
    {
     "name": "stdout",
     "output_type": "stream",
     "text": [
      "Total: 468\n",
      "Percentage: 93.60000000000001\n"
     ]
    }
   ],
   "source": [
    "Operations.Percentage()"
   ]
  },
  {
   "cell_type": "code",
   "execution_count": 6,
   "id": "942b7e78-7ebc-4499-b458-6ef98ebafbb3",
   "metadata": {},
   "outputs": [
    {
     "name": "stdin",
     "output_type": "stream",
     "text": [
      "Height:  32\n",
      "Breadth:  34\n"
     ]
    },
    {
     "name": "stdout",
     "output_type": "stream",
     "text": [
      "Area formula: (height * breadth) / 2\n",
      "Area: 544.0\n"
     ]
    },
    {
     "name": "stdin",
     "output_type": "stream",
     "text": [
      "Height1:  2\n",
      "Height2:  4\n",
      "Breadth:  4\n"
     ]
    },
    {
     "name": "stdout",
     "output_type": "stream",
     "text": [
      "Perimeter formula: height1 + height2 + breadth\n",
      "Perimeter of Triangle: 10\n"
     ]
    }
   ],
   "source": [
    "Operations.Triangle()"
   ]
  },
  {
   "cell_type": "code",
   "execution_count": 7,
   "id": "4c4ed4fb-df8c-482c-9da0-2d6816d791f8",
   "metadata": {},
   "outputs": [
    {
     "name": "stdout",
     "output_type": "stream",
     "text": [
      "Sub-fields in AI are:\n",
      "Machine Learning\n",
      "Neural Networks\n",
      "Vision\n",
      "Robotics\n",
      "Speech Processing\n",
      "Natural Language Processing\n"
     ]
    }
   ],
   "source": [
    "Operations.SubfieldsInAI()"
   ]
  },
  {
   "cell_type": "code",
   "execution_count": null,
   "id": "132a1f67-d777-481c-b6ff-181fcd4ebfbd",
   "metadata": {},
   "outputs": [],
   "source": []
  }
 ],
 "metadata": {
  "kernelspec": {
   "display_name": "Python 3 (ipykernel)",
   "language": "python",
   "name": "python3"
  },
  "language_info": {
   "codemirror_mode": {
    "name": "ipython",
    "version": 3
   },
   "file_extension": ".py",
   "mimetype": "text/x-python",
   "name": "python",
   "nbconvert_exporter": "python",
   "pygments_lexer": "ipython3",
   "version": "3.12.4"
  }
 },
 "nbformat": 4,
 "nbformat_minor": 5
}
