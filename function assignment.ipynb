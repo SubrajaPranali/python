{
 "cells": [
  {
   "cell_type": "code",
   "execution_count": 24,
   "id": "02c9c70a-b557-4772-a204-183326940387",
   "metadata": {},
   "outputs": [
    {
     "name": "stdin",
     "output_type": "stream",
     "text": [
      "Enter a number: 52452\n"
     ]
    },
    {
     "name": "stdout",
     "output_type": "stream",
     "text": [
      "52452 is even\n"
     ]
    }
   ],
   "source": [
    "#odd or even \n",
    "num=int(input(\"Enter a number:\"))\n",
    "def OddEven():\n",
    "    if((num%2)==0):\n",
    "        print(f\"{num} is even\")\n",
    "        \n",
    "    else:\n",
    "        print(f\"{num} is odd\")\n",
    "OddEven()"
   ]
  },
  {
   "cell_type": "code",
   "execution_count": 25,
   "id": "7c263b7c-bcae-4299-958f-8aba1a3b41e0",
   "metadata": {},
   "outputs": [
    {
     "name": "stdin",
     "output_type": "stream",
     "text": [
      "Your gender: male\n",
      "Your age: 20\n"
     ]
    },
    {
     "name": "stdout",
     "output_type": "stream",
     "text": [
      "not eligible\n"
     ]
    }
   ],
   "source": [
    "#eligibility for marriage\n",
    "def EligibilityForMarriage():\n",
    "    gender=input(\"Your gender:\")\n",
    "    age=int(input(\"Your age:\"))\n",
    "    if(gender=='male'):\n",
    "        if(age>=21):\n",
    "            print(\"eligible\")\n",
    "        else:\n",
    "            print(\"not eligible\")\n",
    "    if(gender=='female'):\n",
    "        if(age>=18):\n",
    "            print(\"eligible\")\n",
    "        else:\n",
    "            print(\"not eligible\")\n",
    "EligibilityForMarriage()\n",
    "            "
   ]
  },
  {
   "cell_type": "code",
   "execution_count": 3,
   "id": "68340755-f1e6-4cc7-bbb0-ced930e94ede",
   "metadata": {},
   "outputs": [
    {
     "name": "stdin",
     "output_type": "stream",
     "text": [
      "Subject1: 98\n",
      "Subject2: 87\n",
      "Subject3: 95\n",
      "Subject4: 95\n",
      "Subject5: 93\n"
     ]
    },
    {
     "name": "stdout",
     "output_type": "stream",
     "text": [
      "total: 468\n",
      "Percentage: 93.60000000000001\n"
     ]
    }
   ],
   "source": [
    "def Percentage():\n",
    "    a=int(input(\"Subject1:\"))\n",
    "    b=int(input(\"Subject2:\"))\n",
    "    c=int(input(\"Subject3:\"))\n",
    "    d=int(input(\"Subject4:\"))\n",
    "    e=int(input(\"Subject5:\"))\n",
    "    total=a+b+c+d+e\n",
    "    print(\"total:\",total)\n",
    "    per=float(total)*(100/500)\n",
    "    print(\"Percentage:\",per)\n",
    "Percentage()\n",
    "    "
   ]
  },
  {
   "cell_type": "code",
   "execution_count": 8,
   "id": "02e36cbd-e17e-4100-a76c-cc950cfe9fd2",
   "metadata": {},
   "outputs": [
    {
     "name": "stdin",
     "output_type": "stream",
     "text": [
      "height: 32\n",
      "breadth: 34\n"
     ]
    },
    {
     "name": "stdout",
     "output_type": "stream",
     "text": [
      "Area formula:(height*breadth)/2\n",
      "Area: 544.0\n"
     ]
    },
    {
     "name": "stdin",
     "output_type": "stream",
     "text": [
      "height1: 2\n",
      "height2: 4\n",
      "breadth: 4\n"
     ]
    },
    {
     "name": "stdout",
     "output_type": "stream",
     "text": [
      "perimeter formula:height1+height2+breadth\n",
      "Perimeter of Triangle: 10\n"
     ]
    }
   ],
   "source": [
    "def triangle():\n",
    "    height=int(input(\"height:\"))\n",
    "    breadth=int(input(\"breadth:\"))\n",
    "    area=breadth*height/2\n",
    "    print(\"Area formula:(height*breadth)/2\")\n",
    "    print(\"Area:\",area)\n",
    "    height1=int(input(\"height1:\"))\n",
    "    height2=int(input(\"height2:\"))\n",
    "    breadth=int(input(\"breadth:\"))\n",
    "    perimeter=height1+height2+breadth\n",
    "    print(\"perimeter formula:height1+height2+breadth\")\n",
    "    print(\"Perimeter of Triangle:\",perimeter)\n",
    "triangle()"
   ]
  },
  {
   "cell_type": "code",
   "execution_count": 23,
   "id": "2b244470-a235-4962-a60f-38c0a27ad26d",
   "metadata": {},
   "outputs": [
    {
     "name": "stdout",
     "output_type": "stream",
     "text": [
      "Sub-fields in AI are:\n",
      "Machine Learning\n",
      "Neural Networks\n",
      "vision, Robotics\n",
      "Speech Processing\n",
      "Natural Language Processing\n"
     ]
    }
   ],
   "source": [
    "def SubfieldsInAI():\n",
    "    fields=['Machine Learning', 'Neural Networks', 'vision, Robotics', 'Speech Processing', 'Natural Language Processing']\n",
    "    print(\"Sub-fields in AI are:\")\n",
    "    for char in fields:\n",
    "      print(char)\n",
    "SubfieldsInAI()\n"
   ]
  },
  {
   "cell_type": "code",
   "execution_count": null,
   "id": "91c38e7a-07f4-49b5-9b99-33782d71a881",
   "metadata": {},
   "outputs": [],
   "source": []
  }
 ],
 "metadata": {
  "kernelspec": {
   "display_name": "Python 3 (ipykernel)",
   "language": "python",
   "name": "python3"
  },
  "language_info": {
   "codemirror_mode": {
    "name": "ipython",
    "version": 3
   },
   "file_extension": ".py",
   "mimetype": "text/x-python",
   "name": "python",
   "nbconvert_exporter": "python",
   "pygments_lexer": "ipython3",
   "version": "3.12.4"
  }
 },
 "nbformat": 4,
 "nbformat_minor": 5
}
