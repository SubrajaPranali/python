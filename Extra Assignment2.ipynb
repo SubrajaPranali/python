{
 "cells": [
  {
   "cell_type": "code",
   "execution_count": 1,
   "id": "1418bc47-6672-4845-87ad-b48416339c95",
   "metadata": {},
   "outputs": [
    {
     "name": "stdout",
     "output_type": "stream",
     "text": [
      "0\n",
      "1\n",
      "2\n",
      "3\n",
      "4\n",
      "5\n",
      "6\n",
      "7\n",
      "8\n",
      "9\n",
      "10\n",
      "11\n",
      "12\n",
      "13\n",
      "14\n",
      "15\n",
      "16\n",
      "17\n",
      "18\n",
      "19\n"
     ]
    }
   ],
   "source": [
    "#Range\n",
    "range(0,20)\n",
    "for num in range(0,20):\n",
    "    print(num)"
   ]
  },
  {
   "cell_type": "code",
   "execution_count": 2,
   "id": "cc5f2a34-d000-4bf2-ab74-352a30a5982e",
   "metadata": {},
   "outputs": [
    {
     "name": "stdout",
     "output_type": "stream",
     "text": [
      "10 11 12 13 14 15 16 17 18 19 "
     ]
    }
   ],
   "source": [
    "#range\n",
    "range(10,20)\n",
    "for num in range(10,20):\n",
    "    print(num,end=\" \")"
   ]
  },
  {
   "cell_type": "code",
   "execution_count": 3,
   "id": "ee4f5303-4c00-4afe-962c-2d66f3511120",
   "metadata": {},
   "outputs": [
    {
     "name": "stdout",
     "output_type": "stream",
     "text": [
      "Number of item in list2: 7\n"
     ]
    }
   ],
   "source": [
    "#len function\n",
    "list=[10,20,14,55,43,87,76]\n",
    "num=len(list)\n",
    "print(\"Number of item in list2:\",num)"
   ]
  },
  {
   "cell_type": "code",
   "execution_count": 7,
   "id": "d1cda76e-8399-4037-ae70-59a7524cefc3",
   "metadata": {},
   "outputs": [
    {
     "name": "stdout",
     "output_type": "stream",
     "text": [
      "A\n",
      "R\n",
      "T\n",
      "I\n",
      "F\n",
      "I\n",
      "C\n",
      "I\n",
      "A\n",
      "L\n",
      " \n",
      "I\n",
      "N\n",
      "T\n",
      "E\n",
      "L\n",
      "L\n",
      "I\n",
      "G\n",
      "E\n",
      "N\n",
      "C\n",
      "E\n"
     ]
    }
   ],
   "source": [
    "#range\n",
    "a= \"ARTIFICIAL INTELLIGENCE\"\n",
    "for char in a:\n",
    "    print(char)"
   ]
  },
  {
   "cell_type": "code",
   "execution_count": 8,
   "id": "ce2e410d-a989-4854-a144-48fb90892a09",
   "metadata": {},
   "outputs": [
    {
     "name": "stdout",
     "output_type": "stream",
     "text": [
      "-Your Name-\n",
      "-Your Age-\n",
      "-Your Profession-\n"
     ]
    }
   ],
   "source": [
    "#for loop\n",
    "list=[\"-Your Name-\",\"-Your Age-\",\"-Your Profession-\"]\n",
    "for char in list:\n",
    "    print(char)"
   ]
  },
  {
   "cell_type": "code",
   "execution_count": 9,
   "id": "6446cdfa-d6ef-441c-af8c-ff54fb280f41",
   "metadata": {},
   "outputs": [
    {
     "name": "stdout",
     "output_type": "stream",
     "text": [
      "(1, 'Welcome', 2, 'Hope')\n"
     ]
    }
   ],
   "source": [
    "#tuple\n",
    "a=(1,'Welcome',2,'Hope')\n",
    "print(a)"
   ]
  },
  {
   "cell_type": "code",
   "execution_count": 11,
   "id": "60d8cd0e-cd99-4cda-9b49-641f2d3df6a7",
   "metadata": {},
   "outputs": [
    {
     "name": "stdout",
     "output_type": "stream",
     "text": [
      "((0, 1, 2, 3), ('python', 'HOPE'))\n"
     ]
    }
   ],
   "source": [
    "#tuple\n",
    "a=(0, 1, 2, 3)\n",
    "b=('python', 'HOPE')\n",
    "print((a,b))"
   ]
  },
  {
   "cell_type": "code",
   "execution_count": 17,
   "id": "30abec1b-cdc3-4834-adb6-8c9d777e1940",
   "metadata": {},
   "outputs": [
    {
     "name": "stdout",
     "output_type": "stream",
     "text": [
      "19 is Odd\n",
      "25 is Odd\n",
      "1 is Odd\n"
     ]
    }
   ],
   "source": [
    "#print odd no.'s\n",
    "list=[20,10,16,19,25,1,276,188]\n",
    "for num in list:\n",
    "    if((num%2)==1):\n",
    "        print(f\"{num} is Odd\")"
   ]
  },
  {
   "cell_type": "code",
   "execution_count": 18,
   "id": "470cea14-a001-47ab-ae9b-2c3a6a7d84af",
   "metadata": {},
   "outputs": [
    {
     "name": "stdout",
     "output_type": "stream",
     "text": [
      "20 is even\n",
      "10 is even\n",
      "16 is even\n",
      "276 is even\n",
      "188 is even\n"
     ]
    }
   ],
   "source": [
    "#print even no.'s\n",
    "list=[20,10,16,19,25,1,276,188]\n",
    "for num in list:\n",
    "    if((num%2)==0):\n",
    "        print(f\"{num} is even\")"
   ]
  },
  {
   "cell_type": "code",
   "execution_count": null,
   "id": "9562b0ca-05d7-4343-b102-d8c3e0a07efd",
   "metadata": {},
   "outputs": [],
   "source": []
  }
 ],
 "metadata": {
  "kernelspec": {
   "display_name": "Python 3 (ipykernel)",
   "language": "python",
   "name": "python3"
  },
  "language_info": {
   "codemirror_mode": {
    "name": "ipython",
    "version": 3
   },
   "file_extension": ".py",
   "mimetype": "text/x-python",
   "name": "python",
   "nbconvert_exporter": "python",
   "pygments_lexer": "ipython3",
   "version": "3.12.4"
  }
 },
 "nbformat": 4,
 "nbformat_minor": 5
}
