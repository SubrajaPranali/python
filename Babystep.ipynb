{
 "cells": [
  {
   "cell_type": "code",
   "execution_count": 1,
   "id": "acc247c2-af54-4077-9d1d-600b198ce607",
   "metadata": {},
   "outputs": [
    {
     "name": "stdout",
     "output_type": "stream",
     "text": [
      "Welcome to Assignment-1\n"
     ]
    }
   ],
   "source": [
    "#Babystep\n",
    "#print\n",
    "print(\"Welcome to Assignment-1\")"
   ]
  },
  {
   "cell_type": "code",
   "execution_count": 4,
   "id": "d874cd61-4cb6-4bfa-8698-062cf4a6a153",
   "metadata": {},
   "outputs": [
    {
     "name": "stdin",
     "output_type": "stream",
     "text": [
      "Num1= 10\n",
      "Num2= 30\n"
     ]
    },
    {
     "name": "stdout",
     "output_type": "stream",
     "text": [
      "Add= 40\n"
     ]
    }
   ],
   "source": [
    "#Addition\n",
    "Num1=int(input(\"Num1=\"))\n",
    "Num2=int(input(\"Num2=\"))\n",
    "Add=Num1+Num2\n",
    "print(\"Add=\",Add)"
   ]
  },
  {
   "cell_type": "code",
   "execution_count": 6,
   "id": "64f1983e-1977-4426-83dc-73d1b5974530",
   "metadata": {},
   "outputs": [
    {
     "name": "stdin",
     "output_type": "stream",
     "text": [
      "Enter the BMI Index: 34\n"
     ]
    },
    {
     "name": "stdout",
     "output_type": "stream",
     "text": [
      "Very OverWeight\n"
     ]
    }
   ],
   "source": [
    "#BMI \n",
    "bmi=float(input(\"Enter the BMI Index:\"))\n",
    "if(bmi<18.5):\n",
    "    print(\"Under weight\")\n",
    "elif(bmi<24.9):\n",
    "    print(\"Normal Weight\")\n",
    "elif(bmi<29.9):\n",
    "    print(\"OverWeight\")\n",
    "elif(bmi<34.9):\n",
    "    print(\"Very OverWeight\")\n",
    "else:\n",
    "    print(\"Obesity\")"
   ]
  },
  {
   "cell_type": "code",
   "execution_count": null,
   "id": "47878bdf-bb05-4ffe-9aff-2e1bda7b7c48",
   "metadata": {},
   "outputs": [],
   "source": []
  }
 ],
 "metadata": {
  "kernelspec": {
   "display_name": "Python 3 (ipykernel)",
   "language": "python",
   "name": "python3"
  },
  "language_info": {
   "codemirror_mode": {
    "name": "ipython",
    "version": 3
   },
   "file_extension": ".py",
   "mimetype": "text/x-python",
   "name": "python",
   "nbconvert_exporter": "python",
   "pygments_lexer": "ipython3",
   "version": "3.12.4"
  }
 },
 "nbformat": 4,
 "nbformat_minor": 5
}
