{
 "cells": [
  {
   "cell_type": "code",
   "execution_count": 4,
   "id": "ec95c597-dfc6-443d-9871-ed69f4cf570b",
   "metadata": {},
   "outputs": [
    {
     "name": "stdin",
     "output_type": "stream",
     "text": [
      "i= 10\n"
     ]
    },
    {
     "name": "stdout",
     "output_type": "stream",
     "text": [
      "correct\n"
     ]
    }
   ],
   "source": [
    "#If-else\n",
    "i=int(input(\"i=\"))\n",
    "if(i==10):\n",
    "      print(\"correct\")\n",
    "else:\n",
    "      print(\"Not Correct\")\n"
   ]
  },
  {
   "cell_type": "code",
   "execution_count": 13,
   "id": "1d77b115-f79e-4000-9ac9-76869553b8fd",
   "metadata": {},
   "outputs": [
    {
     "name": "stdin",
     "output_type": "stream",
     "text": [
      "Enter the password: HOPE@123\n"
     ]
    },
    {
     "name": "stdout",
     "output_type": "stream",
     "text": [
      "Your password is Correct\n"
     ]
    }
   ],
   "source": [
    "#if-else\n",
    "password=(input(\"Enter the password:\"))\n",
    "if(password=='HOPE@123'):\n",
    "    print(\"Your password is Correct\")\n",
    "else:\n",
    "    print(\"Your password is Not Correct\")"
   ]
  },
  {
   "cell_type": "code",
   "execution_count": 14,
   "id": "42668e52-f602-467a-b2dc-f1e95c20f9d2",
   "metadata": {},
   "outputs": [
    {
     "name": "stdin",
     "output_type": "stream",
     "text": [
      "age= 20\n"
     ]
    },
    {
     "name": "stdout",
     "output_type": "stream",
     "text": [
      "Adult\n"
     ]
    }
   ],
   "source": [
    "age=int(input(\"age=\"))\n",
    "if(age<=12):\n",
    "    print(\"Children\")\n",
    "elif(age<=34):\n",
    "    print(\"Adult\")\n",
    "elif(age<=50):\n",
    "    print(\"Citizen\")\n",
    "else:\n",
    "    print(\"Senior Citizen\")"
   ]
  },
  {
   "cell_type": "code",
   "execution_count": 15,
   "id": "0b3d854f-3843-4623-97ac-da40a40818e5",
   "metadata": {},
   "outputs": [
    {
     "name": "stdin",
     "output_type": "stream",
     "text": [
      "Enter any number: 1\n"
     ]
    },
    {
     "name": "stdout",
     "output_type": "stream",
     "text": [
      "No is Positive\n"
     ]
    }
   ],
   "source": [
    "#check the no. is positive or not \n",
    "num=int(input(\"Enter any number:\"))\n",
    "if(num>0):\n",
    "    print(\"No is Positive\")\n",
    "else:\n",
    "    pirnt(\"No is Negative\")"
   ]
  },
  {
   "cell_type": "code",
   "execution_count": 16,
   "id": "f2079a0d-2054-440f-bf9f-edd985d22d8e",
   "metadata": {},
   "outputs": [
    {
     "name": "stdin",
     "output_type": "stream",
     "text": [
      "Enter a number to check: 22\n"
     ]
    },
    {
     "name": "stdout",
     "output_type": "stream",
     "text": [
      "Not Divisible by 5\n"
     ]
    }
   ],
   "source": [
    "#Divisible by 5\n",
    "num=int(input(\"Enter a number to check:\"))\n",
    "if((num%5)==0):\n",
    "    print(\"Divisible by 5\")\n",
    "else:\n",
    "    print(\"Not Divisible by 5\")"
   ]
  },
  {
   "cell_type": "code",
   "execution_count": null,
   "id": "4b9a7fcf-8f03-4746-8d41-83919bccc9c9",
   "metadata": {},
   "outputs": [],
   "source": []
  }
 ],
 "metadata": {
  "kernelspec": {
   "display_name": "Python 3 (ipykernel)",
   "language": "python",
   "name": "python3"
  },
  "language_info": {
   "codemirror_mode": {
    "name": "ipython",
    "version": 3
   },
   "file_extension": ".py",
   "mimetype": "text/x-python",
   "name": "python",
   "nbconvert_exporter": "python",
   "pygments_lexer": "ipython3",
   "version": "3.12.4"
  }
 },
 "nbformat": 4,
 "nbformat_minor": 5
}
