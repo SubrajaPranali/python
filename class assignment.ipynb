{
 "cells": [
  {
   "cell_type": "code",
   "execution_count": 4,
   "id": "35a1ccf7-27a2-42b1-a142-d864e99697e9",
   "metadata": {},
   "outputs": [],
   "source": [
    "class Subfields():\n",
    "    def SubfieldsInAI():\n",
    "        fields=['Machine learning', 'Neural Networks','Vision','Robotics','Speech Processing','Natural Language Processing']\n",
    "        for char in fields:\n",
    "            print(char)"
   ]
  },
  {
   "cell_type": "code",
   "execution_count": 5,
   "id": "5046ccc7-7193-413b-ba41-11a109134e6b",
   "metadata": {},
   "outputs": [],
   "source": [
    "class OddEven():\n",
    "    def OddEven():\n",
    "        num=int(input(\"Enter a number:\"))\n",
    "        if((num%2)==0):\n",
    "            print(f\"{num} is even number\")\n",
    "        else:\n",
    "            print(f\"{num} is odd number\")"
   ]
  },
  {
   "cell_type": "code",
   "execution_count": 6,
   "id": "079fc992-5eca-47d1-9227-40052629d0e5",
   "metadata": {},
   "outputs": [],
   "source": [
    "class Eligible():\n",
    "    def EligibilityForMarriage():\n",
    "        gender=input(\"Your gender:\")\n",
    "        age=int(input(\"Your age:\"))\n",
    "        if(gender=='male'):\n",
    "            if(age>=21):\n",
    "                print(\"eligible\")\n",
    "            else:\n",
    "                print(\"not eligible\")\n",
    "        if(gender=='female'):\n",
    "            if(age>=18):\n",
    "                print(\"eligible\")\n",
    "            else:\n",
    "                print(\"not eligible\")"
   ]
  },
  {
   "cell_type": "code",
   "execution_count": 13,
   "id": "23483091-1cab-4d15-89dc-48e93386c131",
   "metadata": {},
   "outputs": [],
   "source": [
    "class FindPercentage():\n",
    "    def percentage():\n",
    "        a=int(input(\"Subject1:\"))\n",
    "        b=int(input(\"Subject2:\"))\n",
    "        c=int(input(\"Subject3:\"))\n",
    "        d=int(input(\"Subject4:\"))\n",
    "        e=int(input(\"Subject5:\"))\n",
    "        total=a+b+c+d+e\n",
    "        print(\"Total:\",total)\n",
    "        per=float(total)*(100/500)\n",
    "        print(\"Percentage:\",per)"
   ]
  },
  {
   "cell_type": "code",
   "execution_count": 8,
   "id": "13aa2c01-a737-4f6a-9aa5-14ee46f434ea",
   "metadata": {},
   "outputs": [],
   "source": [
    "class triangle():\n",
    "    def triangle():\n",
    "        height=int(input(\"height:\"))\n",
    "        breadth=int(input(\"breadth:\"))\n",
    "        area=breadth*height/2\n",
    "        print(\"Area formula:(height*breadth)/2\")\n",
    "        print(\"Area:\",area)\n",
    "        height1=int(input(\"height1:\"))\n",
    "        height2=int(input(\"height2:\"))\n",
    "        breadth=int(input(\"breadth:\"))\n",
    "        perimeter=height1+height2+breadth\n",
    "        print(\"perimeter formula:height1+height2+breadth\")\n",
    "        print(\"perimeter of triangle:\",perimeter)"
   ]
  },
  {
   "cell_type": "code",
   "execution_count": 9,
   "id": "c45aef02-8375-47fd-bbe6-7d917cc09c0b",
   "metadata": {},
   "outputs": [
    {
     "name": "stdout",
     "output_type": "stream",
     "text": [
      "Machine learning\n",
      "Neural Networks\n",
      "Vision\n",
      "Robotics\n",
      "Speech Processing\n",
      "Natural Language Processing\n"
     ]
    }
   ],
   "source": [
    "Subfields.SubfieldsInAI()"
   ]
  },
  {
   "cell_type": "code",
   "execution_count": 10,
   "id": "a01fe060-3191-4dc8-91a9-41f97e6772f6",
   "metadata": {},
   "outputs": [
    {
     "name": "stdin",
     "output_type": "stream",
     "text": [
      "Enter a number: 52452\n"
     ]
    },
    {
     "name": "stdout",
     "output_type": "stream",
     "text": [
      "52452 is even number\n"
     ]
    }
   ],
   "source": [
    "OddEven.OddEven()"
   ]
  },
  {
   "cell_type": "code",
   "execution_count": 11,
   "id": "69981cf9-6726-4dd7-bc9d-98f85c69c868",
   "metadata": {},
   "outputs": [
    {
     "name": "stdin",
     "output_type": "stream",
     "text": [
      "Your gender: male\n",
      "Your age: 20\n"
     ]
    },
    {
     "name": "stdout",
     "output_type": "stream",
     "text": [
      "not eligible\n"
     ]
    }
   ],
   "source": [
    "Eligible.EligibilityForMarriage()"
   ]
  },
  {
   "cell_type": "code",
   "execution_count": 14,
   "id": "02cb824a-50b1-4b36-a327-4e9f6e0a80dc",
   "metadata": {},
   "outputs": [
    {
     "name": "stdin",
     "output_type": "stream",
     "text": [
      "Subject1: 98\n",
      "Subject2: 87\n",
      "Subject3: 95\n",
      "Subject4: 95\n",
      "Subject5: 93\n"
     ]
    },
    {
     "name": "stdout",
     "output_type": "stream",
     "text": [
      "Total: 468\n",
      "Percentage: 93.60000000000001\n"
     ]
    }
   ],
   "source": [
    "FindPercentage.percentage()"
   ]
  },
  {
   "cell_type": "code",
   "execution_count": 15,
   "id": "e4b9fd2f-ea8f-4faf-a54d-f882a2026785",
   "metadata": {},
   "outputs": [
    {
     "name": "stdin",
     "output_type": "stream",
     "text": [
      "height: 32\n",
      "breadth: 34\n"
     ]
    },
    {
     "name": "stdout",
     "output_type": "stream",
     "text": [
      "Area formula:(height*breadth)/2\n",
      "Area: 544.0\n"
     ]
    },
    {
     "name": "stdin",
     "output_type": "stream",
     "text": [
      "height1: 2\n",
      "height2: 4\n",
      "breadth: 4\n"
     ]
    },
    {
     "name": "stdout",
     "output_type": "stream",
     "text": [
      "perimeter formula:height1+height2+breadth\n",
      "perimeter of triangle: 10\n"
     ]
    }
   ],
   "source": [
    "triangle.triangle()"
   ]
  }
 ],
 "metadata": {
  "kernelspec": {
   "display_name": "Python 3 (ipykernel)",
   "language": "python",
   "name": "python3"
  },
  "language_info": {
   "codemirror_mode": {
    "name": "ipython",
    "version": 3
   },
   "file_extension": ".py",
   "mimetype": "text/x-python",
   "name": "python",
   "nbconvert_exporter": "python",
   "pygments_lexer": "ipython3",
   "version": "3.12.4"
  }
 },
 "nbformat": 4,
 "nbformat_minor": 5
}
