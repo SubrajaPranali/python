{
 "cells": [
  {
   "cell_type": "code",
   "execution_count": 1,
   "id": "be9076ce-33bb-4cd9-87cb-497cd07a90ec",
   "metadata": {},
   "outputs": [
    {
     "name": "stdout",
     "output_type": "stream",
     "text": [
      "Welcome to Assignment-1\n"
     ]
    }
   ],
   "source": [
    "#first que\n",
    "print(\"Welcome to Assignment-1\")"
   ]
  },
  {
   "cell_type": "code",
   "execution_count": 3,
   "id": "7af5eef4-7549-416c-9400-55c0a8b915a2",
   "metadata": {},
   "outputs": [
    {
     "name": "stdin",
     "output_type": "stream",
     "text": [
      "Num1= 10\n",
      "Num2= 30\n"
     ]
    },
    {
     "name": "stdout",
     "output_type": "stream",
     "text": [
      "Add= 40\n"
     ]
    }
   ],
   "source": [
    "#second que\n",
    "Num1 = int(input(\"Num1=\"))\n",
    "Num2 = int(input(\"Num2=\"))\n",
    "Add = Num1+Num2\n",
    "print(\"Add=\",Add)\n",
    "          "
   ]
  },
  {
   "cell_type": "code",
   "execution_count": 6,
   "id": "4580cb4b-2c24-4edd-8365-73184d6606d0",
   "metadata": {},
   "outputs": [
    {
     "name": "stdin",
     "output_type": "stream",
     "text": [
      "Enter the BMI Index: 34\n"
     ]
    },
    {
     "name": "stdout",
     "output_type": "stream",
     "text": [
      "very over weight\n"
     ]
    }
   ],
   "source": [
    "#third que\n",
    "BMI = float(input(\"Enter the BMI Index:\"))\n",
    "if(BMI<=18.4):\n",
    "    print(\"underweight\")\n",
    "else:\n",
    "    print(\"very over weight\")\n"
   ]
  },
  {
   "cell_type": "code",
   "execution_count": null,
   "id": "eb21de0c-590b-4a66-9148-99d0fb0d6190",
   "metadata": {},
   "outputs": [],
   "source": []
  }
 ],
 "metadata": {
  "kernelspec": {
   "display_name": "Python 3 (ipykernel)",
   "language": "python",
   "name": "python3"
  },
  "language_info": {
   "codemirror_mode": {
    "name": "ipython",
    "version": 3
   },
   "file_extension": ".py",
   "mimetype": "text/x-python",
   "name": "python",
   "nbconvert_exporter": "python",
   "pygments_lexer": "ipython3",
   "version": "3.12.4"
  }
 },
 "nbformat": 4,
 "nbformat_minor": 5
}
